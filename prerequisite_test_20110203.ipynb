{
  "nbformat": 4,
  "nbformat_minor": 0,
  "metadata": {
    "colab": {
      "provenance": []
    },
    "kernelspec": {
      "name": "python3",
      "display_name": "Python 3"
    },
    "language_info": {
      "name": "python"
    }
  },
  "cells": [
    {
      "cell_type": "code",
      "source": [
        "import matplotlib.pyplot as plt\n",
        "import math\n",
        "import numpy as mp\n",
        "import random"
      ],
      "metadata": {
        "id": "u9f9S3SZXzis"
      },
      "execution_count": null,
      "outputs": []
    },
    {
      "cell_type": "code",
      "source": [
        "# Question-1\n",
        "# For calculating each term cij of C = A * B, we need k multiplications and k-1 additions. \n",
        "# Hence, we need total of mxnxk additions and (k-1)xnxm additions."
      ],
      "metadata": {
        "id": "feRGujAiXJWi"
      },
      "execution_count": null,
      "outputs": []
    },
    {
      "cell_type": "code",
      "source": [
        "#Question-2\n",
        "\n",
        "from timeit import default_timer as timer \n",
        "import random\n",
        "import numpy as np\n",
        "\n",
        "\n",
        "F1=[]   # using inbuilt funMatouttion\n",
        "F2=[]   # using my implementation\n",
        "\n",
        "\n",
        "k=random.randint(1,100)\n",
        "n=random.randint(1,100) \n",
        "m=random.randint(1,100)\n",
        "\n",
        "a=np.arange(n*k).reshape(n,k)\n",
        "b=np.arange(m*k).reshape(k,m)\n",
        "Matout = np.zeros((n,m))\n",
        "begin=timer()\n",
        "for i in range(n):\n",
        "  for j in range(m):\n",
        "      for y in range(k):\n",
        "       Matout[i][j]+=a[i][y]*b[y][j]\n",
        "end=timer()  \n",
        "print(f\"using list time: {end-begin} and output matrix is {Matout}\")  \n",
        "F2.append(end-begin)  \n",
        "\n",
        "start=timer()\n",
        "output=np.matmul(a,b)\n",
        "ending=timer()\n",
        "F1.append(ending-start)\n",
        "F2=np.array(F2)\n",
        "F1=np.array(F1)\n",
        "print(Matout)\n",
        "print(output)\n",
        "print(f\"using inbuilt function time: {ending-start} and output matrix is {Matout}\")"
      ],
      "metadata": {
        "id": "XtQdaxqgXJQv",
        "colab": {
          "base_uri": "https://localhost:8080/"
        },
        "outputId": "82c068b9-a0f2-44c8-9981-85a7d18a4f6d"
      },
      "execution_count": null,
      "outputs": [
        {
          "output_type": "stream",
          "name": "stdout",
          "text": [
            "using list time: 0.09793933099990682 and output matrix is [[  613899.   614250.   614601. ...   647595.   647946.   648297.]\n",
            " [ 1552122.  1553202.  1554282. ...  1655802.  1656882.  1657962.]\n",
            " [ 2490345.  2492154.  2493963. ...  2664009.  2665818.  2667627.]\n",
            " ...\n",
            " [24069474. 24088050. 24106626. ... 25852770. 25871346. 25889922.]\n",
            " [25007697. 25027002. 25046307. ... 26860977. 26880282. 26899587.]\n",
            " [25945920. 25965954. 25985988. ... 27869184. 27889218. 27909252.]]\n",
            "[[  613899.   614250.   614601. ...   647595.   647946.   648297.]\n",
            " [ 1552122.  1553202.  1554282. ...  1655802.  1656882.  1657962.]\n",
            " [ 2490345.  2492154.  2493963. ...  2664009.  2665818.  2667627.]\n",
            " ...\n",
            " [24069474. 24088050. 24106626. ... 25852770. 25871346. 25889922.]\n",
            " [25007697. 25027002. 25046307. ... 26860977. 26880282. 26899587.]\n",
            " [25945920. 25965954. 25985988. ... 27869184. 27889218. 27909252.]]\n",
            "[[  613899   614250   614601 ...   647595   647946   648297]\n",
            " [ 1552122  1553202  1554282 ...  1655802  1656882  1657962]\n",
            " [ 2490345  2492154  2493963 ...  2664009  2665818  2667627]\n",
            " ...\n",
            " [24069474 24088050 24106626 ... 25852770 25871346 25889922]\n",
            " [25007697 25027002 25046307 ... 26860977 26880282 26899587]\n",
            " [25945920 25965954 25985988 ... 27869184 27889218 27909252]]\n",
            "using inbuilt function time: 0.00017822599988903676 and output matrix is [[  613899.   614250.   614601. ...   647595.   647946.   648297.]\n",
            " [ 1552122.  1553202.  1554282. ...  1655802.  1656882.  1657962.]\n",
            " [ 2490345.  2492154.  2493963. ...  2664009.  2665818.  2667627.]\n",
            " ...\n",
            " [24069474. 24088050. 24106626. ... 25852770. 25871346. 25889922.]\n",
            " [25007697. 25027002. 25046307. ... 26860977. 26880282. 26899587.]\n",
            " [25945920. 25965954. 25985988. ... 27869184. 27889218. 27909252.]]\n"
          ]
        }
      ]
    },
    {
      "cell_type": "code",
      "source": [
        "# Question-3\n",
        "\n",
        "# approach thats mentioned in the question O[n^2]\n",
        "def find_median(A):\n",
        "    n = len(A)\n",
        "    freq = {}\n",
        "    for i in range(n//2 +1):\n",
        "        i1 = -1\n",
        "        for j in range(n):\n",
        "            freq.setdefault(j,-1) # default of dict freq[j1] = -1\n",
        "            if freq[j] == -1 : \n",
        "                if i1 == -1 :\n",
        "                    i1 = j\n",
        "                if A[j] >= A[i1] : \n",
        "                    i1 = j\n",
        "        if i == n//2 -1 :\n",
        "                m1 = A[i1]\n",
        "        if i == n//2 :\n",
        "                m2 = A[i1]\n",
        "        freq[i1] = 1\n",
        "\n",
        "    if n&1 == 0 : # even no. of elements\n",
        "         median  = (m1+m2)/2\n",
        "    else:  # odd no. of elements\n",
        "        median = m2\n",
        "    return median\n",
        "  \n",
        "A = [1, 5,2,3,4]\n",
        "\n",
        "median = find_median(A)\n",
        "print(A)\n",
        "print(median)\n"
      ],
      "metadata": {
        "colab": {
          "base_uri": "https://localhost:8080/"
        },
        "id": "DKl6wyBD3mD_",
        "outputId": "d6be5550-3e48-4303-af80-910f54e7f975"
      },
      "execution_count": null,
      "outputs": [
        {
          "output_type": "stream",
          "name": "stdout",
          "text": [
            "[1, 5, 2, 3, 4]\n",
            "3\n"
          ]
        }
      ]
    },
    {
      "cell_type": "code",
      "execution_count": null,
      "metadata": {
        "colab": {
          "base_uri": "https://localhost:8080/"
        },
        "id": "9NGrnSejdeVe",
        "outputId": "e2b0b89d-7ba3-4e20-a940-87bffaf52d10"
      },
      "outputs": [
        {
          "output_type": "stream",
          "name": "stdout",
          "text": [
            "[0.00408149686720094, 0.010694286957885879]\n"
          ]
        }
      ],
      "source": [
        "#Question-4\n",
        "\n",
        "def func(x,y):\n",
        "    return pow(x,2)*y + pow(y,3)*np.sin(x)\n",
        "\n",
        "e = 1e-3\n",
        "x = random.random()\n",
        "y = random.random()\n",
        "ans = []\n",
        "ans.append(func(x+e,y)-func(x,y))\n",
        "ans.append(func(x,y+e)-func(x,y))\n",
        "print(ans)"
      ]
    },
    {
      "cell_type": "code",
      "source": [
        "#question-5\n",
        "import jax\n",
        "import jax.numpy as npj\n",
        "\n",
        "x=random.random()\n",
        "y=random.random()\n",
        "\n",
        "def f(x,y):\n",
        "  return ((x**2)*y)+((y**3)*(npj.sin(x)))\n",
        "\n",
        "def func1(x,y):\n",
        "  return 2*x*y+(y**3)*(npj.cos(x))\n",
        "\n",
        "def func2(x,y):\n",
        "  return x**2+3*y**2*(npj.sin(x)) \n",
        "\n",
        "diff_x=jax.grad(f)\n",
        "print(f\"using jax {diff_x(x,y)}\\n my implementation {func1(x,y)}\")  \n",
        "\n",
        "diff_y=jax.grad(f,1)\n",
        "print(f\" using jax {diff_y(x,y)}\\n y implementation {func2(x,y)}\")"
      ],
      "metadata": {
        "colab": {
          "base_uri": "https://localhost:8080/"
        },
        "id": "XS78aiEyq3w5",
        "outputId": "532d89e3-7913-4fa1-e526-54dada3c41d1"
      },
      "execution_count": null,
      "outputs": [
        {
          "output_type": "stream",
          "name": "stdout",
          "text": [
            "using jax 0.8909550905227661\n",
            " my implementation 0.8909550905227661\n",
            " using jax 1.0697976350784302\n",
            " y implementation 1.0697976350784302\n"
          ]
        }
      ]
    },
    {
      "cell_type": "code",
      "source": [
        "#Question-6\n",
        "# Question 6 - Use sympy to confirm that you obtain the same gradient analytically.\n",
        "\n",
        "from sympy import sin,diff\n",
        "from sympy.abc import x,y\n",
        "def expression(x,y):\n",
        "   return (x*2)*y + (y*3)*sin(x)\n",
        "f1=expression(x,y)\n",
        "def gradient_fun(f1):\n",
        "    diff_wrt_x= diff(f1,x)\n",
        "    diff_wrt_y = diff(f1,y)\n",
        "    print(diff_wrt_x,\" i + \",diff_wrt_y,\" j\")\n",
        "    \n",
        "gradient_fun(expression(x,y))"
      ],
      "metadata": {
        "colab": {
          "base_uri": "https://localhost:8080/"
        },
        "id": "M8KwzwoexrHP",
        "outputId": "0335bd0e-376b-474c-a8b0-27c6c402a5d7"
      },
      "execution_count": null,
      "outputs": [
        {
          "output_type": "stream",
          "name": "stdout",
          "text": [
            "3*y*cos(x) + 2*y  i +  2*x + 3*sin(x)  j\n"
          ]
        }
      ]
    },
    {
      "cell_type": "code",
      "source": [
        "#question-7\n",
        "d = {} # dict of records\n",
        "ls_Roll_number = [] # list of Roll_number numbers\n",
        "\n",
        "def add_data():\n",
        "    year = int(input())\n",
        "    branch = input()\n",
        "    Roll_number = int(input())\n",
        "\n",
        "    # entry error\n",
        "    while(Roll_number in ls_Roll_number):\n",
        "        print(\"Roll_number is there\")\n",
        "        Roll_number = int(input())\n",
        "    \n",
        "    # data entry for that Roll_number no.\n",
        "    ls_Roll_number.append(Roll_number)\n",
        "    name = input()\n",
        "    num_sub = int(input())\n",
        "    \n",
        "    # which year's entry\n",
        "    if year in d:\n",
        "        if branch in d[year]:\n",
        "            d[year][branch][Roll_number] = {\n",
        "                name:{\n",
        "                    \"Marks\":{\n",
        "\n",
        "                    }\n",
        "                }\n",
        "            }\n",
        "        else:\n",
        "            (d[year]).update({branch:{\n",
        "                Roll_number:{\n",
        "                    name:{\n",
        "                        \"Marks\":{\n",
        "                            \n",
        "                        }\n",
        "                    }\n",
        "                }\n",
        "            }})\n",
        "    else:\n",
        "        d.update({year:{\n",
        "            branch:{\n",
        "                Roll_number:{\n",
        "                    name:{\n",
        "                        \"Marks\":{\n",
        "\n",
        "                        }\n",
        "                    }\n",
        "                }\n",
        "            }\n",
        "        }})\n",
        "    for i in range(num_sub):\n",
        "        x, y = input().split()\n",
        "        y = int(i)\n",
        "        (d[year][branch][Roll_number][name][\"Marks\"]).update({x:y})\n",
        "\n"
      ],
      "metadata": {
        "id": "P1h4ORk6ZImJ"
      },
      "execution_count": null,
      "outputs": []
    },
    {
      "cell_type": "code",
      "source": [
        "#Question-9\n",
        "\n",
        "import matplotlib.pyplot as plt\n",
        "import numpy as np\n",
        "\n",
        "x = np.arange(0, 100.0, 0.5)\n",
        "y = x\n",
        "\n",
        "plt.plot(x, y)\n",
        "plt.xlabel('X')\n",
        "plt.ylabel('Y')\n",
        "plt.show()\n",
        "\n",
        "x = np.arange(0, 100.0, 0.5)\n",
        "y = x**2\n",
        "\n",
        "plt.plot(x, y)\n",
        "plt.xlabel('X')\n",
        "plt.ylabel('Y')\n",
        "plt.show()\n",
        "\n",
        "x = np.arange(0, 100.0, 0.5)\n",
        "y = (x**3/100)\n",
        "\n",
        "plt.plot(x, y)\n",
        "plt.xlabel('X')\n",
        "plt.ylabel('Y')\n",
        "plt.show()\n",
        "\n",
        "x = np.arange(0, 100.0, 0.5)\n",
        "y = np.sin(x)\n",
        "\n",
        "plt.plot(x, y)\n",
        "plt.xlabel('X')\n",
        "plt.ylabel('Y')\n",
        "plt.show()\n",
        "\n",
        "x = np.arange(0, 100.0, 0.5)\n",
        "y = (np.sin(x))/x\n",
        "\n",
        "plt.plot(x, y)\n",
        "plt.xlabel('X')\n",
        "plt.ylabel('Y')\n",
        "plt.show()\n",
        "\n",
        "x = np.arange(0, 100.0, 0.5)\n",
        "y = np.log(x)\n",
        "\n",
        "plt.plot(x, y)\n",
        "plt.xlabel('X')\n",
        "plt.ylabel('Y')\n",
        "plt.show()\n",
        "\n",
        "x = np.arange(0, 100.0, 0.5)\n",
        "y = np.exp(x)\n",
        "\n",
        "plt.plot(x, y)\n",
        "plt.xlabel('X')\n",
        "plt.ylabel('Y')\n",
        "plt.show()"
      ],
      "metadata": {
        "colab": {
          "base_uri": "https://localhost:8080/",
          "height": 1000
        },
        "id": "-aFBZyD8ymED",
        "outputId": "e7966918-f46e-436f-a277-7078fe34f3a2"
      },
      "execution_count": null,
      "outputs": [
        {
          "output_type": "display_data",
          "data": {
            "text/plain": [
              "<Figure size 432x288 with 1 Axes>"
            ],
            "image/png": "[encoded data removed]"
          },
          "metadata": {
            "needs_background": "light"
          }
        },
        {
          "output_type": "display_data",
          "data": {
            "text/plain": [
              "<Figure size 432x288 with 1 Axes>"
            ],
            "image/png": "[encoded data removed]"
          },
          "metadata": {
            "needs_background": "light"
          }
        },
        {
          "output_type": "display_data",
          "data": {
            "text/plain": [
              "<Figure size 432x288 with 1 Axes>"
            ],
            "image/png": "[encoded data removed]"
          },
          "metadata": {
            "needs_background": "light"
          }
        },
        {
          "output_type": "display_data",
          "data": {
            "text/plain": [
              "<Figure size 432x288 with 1 Axes>"
            ],
            "image/png": "[encoded data removed]"
          },
          "metadata": {
            "needs_background": "light"
          }
        },
        {
          "output_type": "stream",
          "name": "stderr",
          "text": [
            "<ipython-input-22-1de59894e4a5>:43: RuntimeWarning: invalid value encountered in true_divide\n",
            "  y = (np.sin(x))/x\n"
          ]
        },
        {
          "output_type": "display_data",
          "data": {
            "text/plain": [
              "<Figure size 432x288 with 1 Axes>"
            ],
            "image/png": "[encoded data removed]"
          },
          "metadata": {
            "needs_background": "light"
          }
        },
        {
          "output_type": "stream",
          "name": "stderr",
          "text": [
            "<ipython-input-22-1de59894e4a5>:51: RuntimeWarning: divide by zero encountered in log\n",
            "  y = np.log(x)\n"
          ]
        },
        {
          "output_type": "display_data",
          "data": {
            "text/plain": [
              "<Figure size 432x288 with 1 Axes>"
            ],
            "image/png": "[encoded data removed]"
          },
          "metadata": {
            "needs_background": "light"
          }
        },
        {
          "output_type": "display_data",
          "data": {
            "text/plain": [
              "<Figure size 432x288 with 1 Axes>"
            ],
            "image/png": "[encoded data removed]"
          },
          "metadata": {
            "needs_background": "light"
          }
        }
      ]
    },
    {
      "cell_type": "code",
      "source": [
        "#Question-10\n",
        "# Here numpy libaray is used to form a matrix of dimension 20*5 containing intergers that are either 1 or 2, then using pandas a dataframe is made out of this matrix, the columns.\n",
        "# Objective is to determine column with highest standard deviation and row with lowest mean.\n",
        "\n",
        "import pandas as pd\n",
        "import numpy as np\n",
        "data_matrix = np.random.randint(1,3 , size=(20,5))\n",
        "col_vector = ['col1','col2','col3','col4','col5']\n",
        "df = pd.DataFrame(data = data_matrix, columns = col_vector)\n",
        "df.describe()"
      ],
      "metadata": {
        "colab": {
          "base_uri": "https://localhost:8080/",
          "height": 300
        },
        "id": "t0OpUW4Ny3Yq",
        "outputId": "0329fb62-11af-4bb5-9747-a74f6dfcc9fa"
      },
      "execution_count": null,
      "outputs": [
        {
          "output_type": "execute_result",
          "data": {
            "text/plain": [
              "            col1       col2       col3       col4       col5\n",
              "count  20.000000  20.000000  20.000000  20.000000  20.000000\n",
              "mean    1.500000   1.500000   1.600000   1.450000   1.550000\n",
              "std     0.512989   0.512989   0.502625   0.510418   0.510418\n",
              "min     1.000000   1.000000   1.000000   1.000000   1.000000\n",
              "25%     1.000000   1.000000   1.000000   1.000000   1.000000\n",
              "50%     1.500000   1.500000   2.000000   1.000000   2.000000\n",
              "75%     2.000000   2.000000   2.000000   2.000000   2.000000\n",
              "max     2.000000   2.000000   2.000000   2.000000   2.000000"
            ],
            "text/html": [
              "\n",
              "  <div id=\"df-01bd4c7d-59ae-4dae-b04e-cb07a23d32fa\">\n",
              "    <div class=\"colab-df-container\">\n",
              "      <div>\n",
              "<style scoped>\n",
              "    .dataframe tbody tr th:only-of-type {\n",
              "        vertical-align: middle;\n",
              "    }\n",
              "\n",
              "    .dataframe tbody tr th {\n",
              "        vertical-align: top;\n",
              "    }\n",
              "\n",
              "    .dataframe thead th {\n",
              "        text-align: right;\n",
              "    }\n",
              "</style>\n",
              "<table border=\"1\" class=\"dataframe\">\n",
              "  <thead>\n",
              "    <tr style=\"text-align: right;\">\n",
              "      <th></th>\n",
              "      <th>col1</th>\n",
              "      <th>col2</th>\n",
              "      <th>col3</th>\n",
              "      <th>col4</th>\n",
              "      <th>col5</th>\n",
              "    </tr>\n",
              "  </thead>\n",
              "  <tbody>\n",
              "    <tr>\n",
              "      <th>count</th>\n",
              "      <td>20.000000</td>\n",
              "      <td>20.000000</td>\n",
              "      <td>20.000000</td>\n",
              "      <td>20.000000</td>\n",
              "      <td>20.000000</td>\n",
              "    </tr>\n",
              "    <tr>\n",
              "      <th>mean</th>\n",
              "      <td>1.500000</td>\n",
              "      <td>1.500000</td>\n",
              "      <td>1.600000</td>\n",
              "      <td>1.450000</td>\n",
              "      <td>1.550000</td>\n",
              "    </tr>\n",
              "    <tr>\n",
              "      <th>std</th>\n",
              "      <td>0.512989</td>\n",
              "      <td>0.512989</td>\n",
              "      <td>0.502625</td>\n",
              "      <td>0.510418</td>\n",
              "      <td>0.510418</td>\n",
              "    </tr>\n",
              "    <tr>\n",
              "      <th>min</th>\n",
              "      <td>1.000000</td>\n",
              "      <td>1.000000</td>\n",
              "      <td>1.000000</td>\n",
              "      <td>1.000000</td>\n",
              "      <td>1.000000</td>\n",
              "    </tr>\n",
              "    <tr>\n",
              "      <th>25%</th>\n",
              "      <td>1.000000</td>\n",
              "      <td>1.000000</td>\n",
              "      <td>1.000000</td>\n",
              "      <td>1.000000</td>\n",
              "      <td>1.000000</td>\n",
              "    </tr>\n",
              "    <tr>\n",
              "      <th>50%</th>\n",
              "      <td>1.500000</td>\n",
              "      <td>1.500000</td>\n",
              "      <td>2.000000</td>\n",
              "      <td>1.000000</td>\n",
              "      <td>2.000000</td>\n",
              "    </tr>\n",
              "    <tr>\n",
              "      <th>75%</th>\n",
              "      <td>2.000000</td>\n",
              "      <td>2.000000</td>\n",
              "      <td>2.000000</td>\n",
              "      <td>2.000000</td>\n",
              "      <td>2.000000</td>\n",
              "    </tr>\n",
              "    <tr>\n",
              "      <th>max</th>\n",
              "      <td>2.000000</td>\n",
              "      <td>2.000000</td>\n",
              "      <td>2.000000</td>\n",
              "      <td>2.000000</td>\n",
              "      <td>2.000000</td>\n",
              "    </tr>\n",
              "  </tbody>\n",
              "</table>\n",
              "</div>\n",
              "      <button class=\"colab-df-convert\" onclick=\"convertToInteractive('df-01bd4c7d-59ae-4dae-b04e-cb07a23d32fa')\"\n",
              "              title=\"Convert this dataframe to an interactive table.\"\n",
              "              style=\"display:none;\">\n",
              "        \n",
              "  <svg xmlns=\"http://www.w3.org/2000/svg\" height=\"24px\"viewBox=\"0 0 24 24\"\n",
              "       width=\"24px\">\n",
              "    <path d=\"M0 0h24v24H0V0z\" fill=\"none\"/>\n",
              "    <path d=\"M18.56 5.44l.94 2.06.94-2.06 2.06-.94-2.06-.94-.94-2.06-.94 2.06-2.06.94zm-11 1L8.5 8.5l.94-2.06 2.06-.94-2.06-.94L8.5 2.5l-.94 2.06-2.06.94zm10 10l.94 2.06.94-2.06 2.06-.94-2.06-.94-.94-2.06-.94 2.06-2.06.94z\"/><path d=\"M17.41 7.96l-1.37-1.37c-.4-.4-.92-.59-1.43-.59-.52 0-1.04.2-1.43.59L10.3 9.45l-7.72 7.72c-.78.78-.78 2.05 0 2.83L4 21.41c.39.39.9.59 1.41.59.51 0 1.02-.2 1.41-.59l7.78-7.78 2.81-2.81c.8-.78.8-2.07 0-2.86zM5.41 20L4 18.59l7.72-7.72 1.47 1.35L5.41 20z\"/>\n",
              "  </svg>\n",
              "      </button>\n",
              "      \n",
              "  <style>\n",
              "    .colab-df-container {\n",
              "      display:flex;\n",
              "      flex-wrap:wrap;\n",
              "      gap: 12px;\n",
              "    }\n",
              "\n",
              "    .colab-df-convert {\n",
              "      background-color: #E8F0FE;\n",
              "      border: none;\n",
              "      border-radius: 50%;\n",
              "      cursor: pointer;\n",
              "      display: none;\n",
              "      fill: #1967D2;\n",
              "      height: 32px;\n",
              "      padding: 0 0 0 0;\n",
              "      width: 32px;\n",
              "    }\n",
              "\n",
              "    .colab-df-convert:hover {\n",
              "      background-color: #E2EBFA;\n",
              "      box-shadow: 0px 1px 2px rgba(60, 64, 67, 0.3), 0px 1px 3px 1px rgba(60, 64, 67, 0.15);\n",
              "      fill: #174EA6;\n",
              "    }\n",
              "\n",
              "    [theme=dark] .colab-df-convert {\n",
              "      background-color: #3B4455;\n",
              "      fill: #D2E3FC;\n",
              "    }\n",
              "\n",
              "    [theme=dark] .colab-df-convert:hover {\n",
              "      background-color: #434B5C;\n",
              "      box-shadow: 0px 1px 3px 1px rgba(0, 0, 0, 0.15);\n",
              "      filter: drop-shadow(0px 1px 2px rgba(0, 0, 0, 0.3));\n",
              "      fill: #FFFFFF;\n",
              "    }\n",
              "  </style>\n",
              "\n",
              "      <script>\n",
              "        const buttonEl =\n",
              "          document.querySelector('#df-01bd4c7d-59ae-4dae-b04e-cb07a23d32fa button.colab-df-convert');\n",
              "        buttonEl.style.display =\n",
              "          google.colab.kernel.accessAllowed ? 'block' : 'none';\n",
              "\n",
              "        async function convertToInteractive(key) {\n",
              "          const element = document.querySelector('#df-01bd4c7d-59ae-4dae-b04e-cb07a23d32fa');\n",
              "          const dataTable =\n",
              "            await google.colab.kernel.invokeFunction('convertToInteractive',\n",
              "                                                     [key], {});\n",
              "          if (!dataTable) return;\n",
              "\n",
              "          const docLinkHtml = 'Like what you see? Visit the ' +\n",
              "            '<a target=\"_blank\" href=https://colab.research.google.com/notebooks/data_table.ipynb>data table notebook</a>'\n",
              "            + ' to learn more about interactive tables.';\n",
              "          element.innerHTML = '';\n",
              "          dataTable['output_type'] = 'display_data';\n",
              "          await google.colab.output.renderOutput(dataTable, element);\n",
              "          const docLink = document.createElement('div');\n",
              "          docLink.innerHTML = docLinkHtml;\n",
              "          element.appendChild(docLink);\n",
              "        }\n",
              "      </script>\n",
              "    </div>\n",
              "  </div>\n",
              "  "
            ]
          },
          "metadata": {},
          "execution_count": 24
        }
      ]
    },
    {
      "cell_type": "code",
      "source": [
        "sigma = df.std()\n",
        "max_std = max(sigma)\n",
        "print(col_vector[np.argmax(max_std)], \" <==> \",max_std)\n",
        "mean_row = df.mean(axis=1)\n",
        "min_mean = min(mean_row)\n",
        "row_num = np.argmax(mean_row)\n",
        "print(f\"{row_num} <==> Row{min_mean}\")"
      ],
      "metadata": {
        "colab": {
          "base_uri": "https://localhost:8080/"
        },
        "id": "oJqxpjdCzSym",
        "outputId": "7b268ad4-e3a4-4e99-8be1-8ce55d541663"
      },
      "execution_count": null,
      "outputs": [
        {
          "output_type": "stream",
          "name": "stdout",
          "text": [
            "col1  <==>  0.512989176042577\n",
            "7 <==> Row1.0\n"
          ]
        }
      ]
    },
    {
      "cell_type": "code",
      "source": [
        "#Question-11\n",
        "col_6 = df['col1']+df['col2']+df['col3']+df['col4']+df['col5']\n",
        "df.insert(5,\"col6\",col_6,True)\n",
        "print(df)\n",
        "df.describe()\n",
        "print(df[\"col6\"].values)\n",
        "count=0\n",
        "for i in df[\"col6\"].values:\n",
        "  if(i<8):\n",
        "    count+=1\n",
        "count"
      ],
      "metadata": {
        "colab": {
          "base_uri": "https://localhost:8080/"
        },
        "id": "bIyBByJLzVdR",
        "outputId": "f8c710ce-1f70-4e53-c95d-929cfa377689"
      },
      "execution_count": null,
      "outputs": [
        {
          "output_type": "stream",
          "name": "stdout",
          "text": [
            "    col1  col2  col3  col4  col5  col6\n",
            "0      2     1     1     1     1     6\n",
            "1      2     2     2     2     1     9\n",
            "2      2     2     2     1     1     8\n",
            "3      2     2     2     1     2     9\n",
            "4      1     1     2     2     2     8\n",
            "5      1     2     2     2     2     9\n",
            "6      2     2     2     1     2     9\n",
            "7      2     2     2     2     2    10\n",
            "8      1     1     2     2     2     8\n",
            "9      2     1     1     2     1     7\n",
            "10     2     1     1     1     2     7\n",
            "11     1     1     1     1     1     5\n",
            "12     1     1     2     2     1     7\n",
            "13     1     2     1     2     1     7\n",
            "14     2     1     1     1     2     7\n",
            "15     2     2     1     1     2     8\n",
            "16     1     2     2     2     1     8\n",
            "17     1     2     2     1     2     8\n",
            "18     1     1     2     1     1     6\n",
            "19     1     1     1     1     2     6\n",
            "[ 6  9  8  9  8  9  9 10  8  7  7  5  7  7  7  8  8  8  6  6]\n"
          ]
        },
        {
          "output_type": "execute_result",
          "data": {
            "text/plain": [
              "9"
            ]
          },
          "metadata": {},
          "execution_count": 36
        }
      ]
    },
    {
      "cell_type": "code",
      "source": [
        "# question 12\n",
        "# broadcasting in numpy using array\n",
        "\n",
        "arr1 = np.random.rand(4,4)\n",
        "arr2 = np.random.rand(4,1)\n",
        "\n",
        "print (arr1*arr2)\n"
      ],
      "metadata": {
        "id": "S98LrGdgi0QD",
        "colab": {
          "base_uri": "https://localhost:8080/"
        },
        "outputId": "0b56bac8-6e14-4115-a971-91fe38da5f5b"
      },
      "execution_count": 48,
      "outputs": [
        {
          "output_type": "stream",
          "name": "stdout",
          "text": [
            "[[0.88924559 0.21365234 0.67129966 0.48744215]\n",
            " [0.49625357 0.59305602 0.2491146  0.13960573]\n",
            " [0.24151989 0.27007936 0.14832763 0.12940523]\n",
            " [0.1289446  0.67227859 0.14208227 0.07290851]]\n"
          ]
        }
      ]
    },
    {
      "cell_type": "code",
      "source": [
        "# Question -13\n",
        "import numpy as np\n",
        "li = list()\n",
        "for i in range(10):\n",
        "    li.append(np.random.randint(1,100))\n",
        "    print(li[i],end=\" \")\n",
        "print()\n",
        " \n",
        "def argminfunc(li):\n",
        "    minimum = 110\n",
        "    ans = 0\n",
        "    for i in range(10):\n",
        "        if li[i]<minimum:\n",
        "            minimum=li[i]\n",
        "            ans=li[i]\n",
        "    return ans\n",
        " \n",
        "array_np = np.array(li)\n",
        "min_index = array_np.argmin()\n",
        "print(\"Argmin using np.argmin is \", li[min_index])\n",
        "print(\"Argmin using argminfunc is \", argminfunc(li))"
      ],
      "metadata": {
        "id": "pnUkuz0Hi2Td",
        "colab": {
          "base_uri": "https://localhost:8080/"
        },
        "outputId": "ad62b888-96cd-4a22-b249-d90cc582d298"
      },
      "execution_count": 46,
      "outputs": [
        {
          "output_type": "stream",
          "name": "stdout",
          "text": [
            "47 82 36 41 83 30 60 90 91 7 \n",
            "Argmin using np.argmin is  7\n",
            "Argmin using argminfunc is  7\n"
          ]
        }
      ]
    }
  ]
}